{
 "cells": [
  {
   "cell_type": "code",
   "execution_count": 2,
   "metadata": {},
   "outputs": [],
   "source": [
    "import pandas as pd\n",
    "\n",
    "# Read the CSV file\n",
    "file_path = '/mnt/16t/xzwnlp/SaeEdit/ManipulateSAE/data/safety/toxic_DINM_test500/test.csv'\n",
    "df = pd.read_csv(file_path)\n",
    "\n",
    "# Randomly select 500 rows\n",
    "df_sampled = df.sample(n=500, random_state=1)\n",
    "\n",
    "# Save the sampled DataFrame to a new CSV file\n",
    "sampled_file_path = '/mnt/16t/xzwnlp/SaeEdit/ManipulateSAE/data/safety/toxic_DINM_test500/test_500.csv'\n",
    "df_sampled.to_csv(sampled_file_path, index=False)"
   ]
  },
  {
   "cell_type": "code",
   "execution_count": 3,
   "metadata": {},
   "outputs": [],
   "source": [
    "file_path = '/mnt/16t/xzwnlp/SaeEdit/ManipulateSAE/data/safety/toxic_DINM_test500/test_500.csv'\n",
    "df = pd.read_csv(file_path)"
   ]
  }
 ],
 "metadata": {
  "kernelspec": {
   "display_name": "sae",
   "language": "python",
   "name": "python3"
  },
  "language_info": {
   "codemirror_mode": {
    "name": "ipython",
    "version": 3
   },
   "file_extension": ".py",
   "mimetype": "text/x-python",
   "name": "python",
   "nbconvert_exporter": "python",
   "pygments_lexer": "ipython3",
   "version": "3.10.14"
  }
 },
 "nbformat": 4,
 "nbformat_minor": 2
}
